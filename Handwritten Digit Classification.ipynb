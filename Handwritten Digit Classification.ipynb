{
  "nbformat": 4,
  "nbformat_minor": 0,
  "metadata": {
    "kernelspec": {
      "display_name": "Python 3",
      "language": "python",
      "name": "python3"
    },
    "language_info": {
      "codemirror_mode": {
        "name": "ipython",
        "version": 3
      },
      "file_extension": ".py",
      "mimetype": "text/x-python",
      "name": "python",
      "nbconvert_exporter": "python",
      "pygments_lexer": "ipython3",
      "version": "3.7.6"
    },
    "colab": {
      "name": "Handwritten Digit Classification.ipynb",
      "provenance": [],
      "collapsed_sections": [],
      "toc_visible": true
    }
  },
  "cells": [
    {
      "cell_type": "markdown",
      "metadata": {
        "id": "KjrAE4t5NJ2x"
      },
      "source": [
        "# Importing Libraires"
      ]
    },
    {
      "cell_type": "code",
      "metadata": {
        "id": "GIBwnMLxNJ26"
      },
      "source": [
        "import tensorflow as tf\n",
        "from tensorflow import keras\n",
        "import numpy as np\n",
        "import seaborn as sn\n",
        "import matplotlib.pyplot as plt\n",
        "%matplotlib inline"
      ],
      "execution_count": 20,
      "outputs": []
    },
    {
      "cell_type": "markdown",
      "metadata": {
        "id": "feBDZaZmNJ27"
      },
      "source": [
        "# Divided Dataset into training and testing data"
      ]
    },
    {
      "cell_type": "code",
      "metadata": {
        "id": "jzd_FjtjNJ28"
      },
      "source": [
        "(x_train,y_train),(x_test,y_test) = keras.datasets.mnist.load_data()\n",
        "x_train = x_train/255\n",
        "x_test = x_test/255"
      ],
      "execution_count": 21,
      "outputs": []
    },
    {
      "cell_type": "markdown",
      "metadata": {
        "id": "-LBEi56fNJ28"
      },
      "source": [
        "# Creating a Convolutional neural network"
      ]
    },
    {
      "cell_type": "code",
      "metadata": {
        "colab": {
          "base_uri": "https://localhost:8080/"
        },
        "id": "W-p3QcaXNJ29",
        "outputId": "22c2794e-85bc-44b6-d33b-06ad25f127c5"
      },
      "source": [
        "model = keras.Sequential([\n",
        "    keras.layers.Flatten(input_shape=(28,28)),\n",
        "    \n",
        "    keras.layers.Dense(100,activation='relu'),\n",
        "    keras.layers.Dropout(0.2),\n",
        "    keras.layers.Dense(10,input_shape=(100,),activation=\"softmax\")\n",
        "])\n",
        "\n",
        "model.compile(\n",
        "    optimizer='adam',\n",
        "    loss = 'sparse_categorical_crossentropy',\n",
        "    metrics=['accuracy']\n",
        ")\n",
        "\n",
        "\n",
        "model.fit(x_train,y_train,epochs=15)"
      ],
      "execution_count": 22,
      "outputs": [
        {
          "output_type": "stream",
          "text": [
            "Epoch 1/15\n",
            "1875/1875 [==============================] - 3s 2ms/step - loss: 0.5156 - accuracy: 0.8484\n",
            "Epoch 2/15\n",
            "1875/1875 [==============================] - 3s 2ms/step - loss: 0.1690 - accuracy: 0.9509\n",
            "Epoch 3/15\n",
            "1875/1875 [==============================] - 3s 2ms/step - loss: 0.1227 - accuracy: 0.9631\n",
            "Epoch 4/15\n",
            "1875/1875 [==============================] - 3s 2ms/step - loss: 0.0962 - accuracy: 0.9720\n",
            "Epoch 5/15\n",
            "1875/1875 [==============================] - 3s 2ms/step - loss: 0.0832 - accuracy: 0.9738\n",
            "Epoch 6/15\n",
            "1875/1875 [==============================] - 3s 2ms/step - loss: 0.0737 - accuracy: 0.9766\n",
            "Epoch 7/15\n",
            "1875/1875 [==============================] - 3s 2ms/step - loss: 0.0646 - accuracy: 0.9793\n",
            "Epoch 8/15\n",
            "1875/1875 [==============================] - 3s 2ms/step - loss: 0.0598 - accuracy: 0.9803\n",
            "Epoch 9/15\n",
            "1875/1875 [==============================] - 3s 2ms/step - loss: 0.0544 - accuracy: 0.9831\n",
            "Epoch 10/15\n",
            "1875/1875 [==============================] - 3s 2ms/step - loss: 0.0524 - accuracy: 0.9828\n",
            "Epoch 11/15\n",
            "1875/1875 [==============================] - 3s 2ms/step - loss: 0.0483 - accuracy: 0.9842\n",
            "Epoch 12/15\n",
            "1875/1875 [==============================] - 3s 2ms/step - loss: 0.0460 - accuracy: 0.9850\n",
            "Epoch 13/15\n",
            "1875/1875 [==============================] - 3s 2ms/step - loss: 0.0424 - accuracy: 0.9859\n",
            "Epoch 14/15\n",
            "1875/1875 [==============================] - 3s 2ms/step - loss: 0.0427 - accuracy: 0.9858\n",
            "Epoch 15/15\n",
            "1875/1875 [==============================] - 3s 2ms/step - loss: 0.0397 - accuracy: 0.9867\n"
          ],
          "name": "stdout"
        },
        {
          "output_type": "execute_result",
          "data": {
            "text/plain": [
              "<tensorflow.python.keras.callbacks.History at 0x7f4ab6e9c4d0>"
            ]
          },
          "metadata": {
            "tags": []
          },
          "execution_count": 22
        }
      ]
    },
    {
      "cell_type": "code",
      "metadata": {
        "colab": {
          "base_uri": "https://localhost:8080/"
        },
        "id": "XKUpcho_NJ2-",
        "outputId": "859d38a2-7063-4b37-e6b1-155495770cea"
      },
      "source": [
        "model.evaluate(x_test,y_test) #evaluating the model"
      ],
      "execution_count": 23,
      "outputs": [
        {
          "output_type": "stream",
          "text": [
            "313/313 [==============================] - 1s 1ms/step - loss: 0.0795 - accuracy: 0.9792\n"
          ],
          "name": "stdout"
        },
        {
          "output_type": "execute_result",
          "data": {
            "text/plain": [
              "[0.07953859120607376, 0.979200005531311]"
            ]
          },
          "metadata": {
            "tags": []
          },
          "execution_count": 23
        }
      ]
    },
    {
      "cell_type": "code",
      "metadata": {
        "id": "iuTucJ1SNJ2-"
      },
      "source": [
        "y_predicted = model.predict(x_test) #storing the preditcion of the model"
      ],
      "execution_count": 24,
      "outputs": []
    },
    {
      "cell_type": "code",
      "metadata": {
        "id": "XOU2hK83NJ2_"
      },
      "source": [
        "y_prediced_int = [np.argmax(i) for i in y_predicted] #converting the y_predicted data into the int values\n",
        "model.save('model.h5')"
      ],
      "execution_count": 25,
      "outputs": []
    },
    {
      "cell_type": "markdown",
      "metadata": {
        "id": "LbyqT3X9NJ2_"
      },
      "source": [
        "# Representation of Confusion Matrix"
      ]
    },
    {
      "cell_type": "code",
      "metadata": {
        "colab": {
          "base_uri": "https://localhost:8080/",
          "height": 459
        },
        "id": "2qEnrRGzNJ2_",
        "outputId": "c427b179-16dc-4866-8d7a-0954384549ac"
      },
      "source": [
        "cm = tf.math.confusion_matrix(labels=y_test,predictions=y_prediced_int)\n",
        "plt.figure(figsize = (10,7))\n",
        "sn.heatmap(cm,annot=True,fmt='d')\n",
        "plt.xlabel('Predicted')\n",
        "plt.ylabel('Truth')"
      ],
      "execution_count": 26,
      "outputs": [
        {
          "output_type": "execute_result",
          "data": {
            "text/plain": [
              "Text(69.0, 0.5, 'Truth')"
            ]
          },
          "metadata": {
            "tags": []
          },
          "execution_count": 26
        },
        {
          "output_type": "display_data",
          "data": {
            "image/png": "[encoded data removed]",
            "text/plain": [
              "<Figure size 720x504 with 2 Axes>"
            ]
          },
          "metadata": {
            "tags": [],
            "needs_background": "light"
          }
        }
      ]
    },
    {
      "cell_type": "code",
      "metadata": {
        "id": "S5zLgsmNNJ3A"
      },
      "source": [
        ""
      ],
      "execution_count": null,
      "outputs": []
    }
  ]
}